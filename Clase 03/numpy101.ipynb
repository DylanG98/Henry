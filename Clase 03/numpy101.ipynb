{
 "cells": [
  {
   "cell_type": "code",
   "execution_count": 2,
   "metadata": {},
   "outputs": [
    {
     "name": "stdout",
     "output_type": "stream",
     "text": [
      "1.23.4\n",
      "1.23.4\n"
     ]
    }
   ],
   "source": [
    "###Import numpy as np and print the version number\n",
    " \n",
    "import numpy as np\n",
    "\n",
    "print(np.version.version)\n",
    "\n",
    "print(np.__version__)"
   ]
  },
  {
   "cell_type": "code",
   "execution_count": 3,
   "metadata": {},
   "outputs": [
    {
     "data": {
      "text/plain": [
       "array([0, 1, 2, 3, 4, 5, 6, 7, 8, 9])"
      ]
     },
     "execution_count": 3,
     "metadata": {},
     "output_type": "execute_result"
    }
   ],
   "source": [
    "#Create a 1D array of numbers from 0 to 9\n",
    "\n",
    "array1d = np.arange(10)  ############## arange crea el vector con la cantidad de num dada  \n",
    "\n",
    "array1d"
   ]
  },
  {
   "cell_type": "code",
   "execution_count": 4,
   "metadata": {},
   "outputs": [
    {
     "name": "stdout",
     "output_type": "stream",
     "text": [
      "[[ True  True  True]\n",
      " [ True  True  True]\n",
      " [ True  True  True]]\n",
      "****************************************************************************************************\n",
      "[[ True  True  True]\n",
      " [ True  True  True]\n",
      " [ True  True  True]]\n"
     ]
    }
   ],
   "source": [
    "# Create a 3×3 numpy array of all True’s\n",
    "\n",
    "############################################################################################################################\n",
    "# creacion de una una matriz con boleano, por la condicion de mat<10\n",
    "############################################################################################################################\n",
    "\n",
    "mat = np.arange(9).reshape(3,3)\n",
    "print(mat < 10)\n",
    "\n",
    "print(\"*\"*100)\n",
    "\n",
    "############################################################################################################################\n",
    "# otra forma de hacerlo\n",
    "############################################################################################################################\n",
    "\n",
    "mat1= np.full((3,3), True , dtype=bool)   ######## full() function is used to return a new array of a given shape and data type filled with fill_value\n",
    "print(mat1)"
   ]
  },
  {
   "cell_type": "code",
   "execution_count": 5,
   "metadata": {},
   "outputs": [
    {
     "data": {
      "text/plain": [
       "array([1, 3, 5, 7, 9])"
      ]
     },
     "execution_count": 5,
     "metadata": {},
     "output_type": "execute_result"
    }
   ],
   "source": [
    "### Extract all odd numbers from arr\n",
    "\n",
    "############################################################################################################################\n",
    "# extracion de numeros pares\n",
    "############################################################################################################################\n",
    "\n",
    "############################################################################################################################\n",
    "# se crea una condicion y se usa el metodo .extract\n",
    "############################################################################################################################\n",
    "\n",
    "\n",
    "arr = np.arange(10)\n",
    "\n",
    "condition = (arr % 2 == 1)\n",
    "\n",
    "np.extract(condition,arr)"
   ]
  },
  {
   "cell_type": "code",
   "execution_count": 6,
   "metadata": {},
   "outputs": [
    {
     "data": {
      "text/plain": [
       "array([ 0, -1,  2, -1,  4, -1,  6, -1,  8, -1])"
      ]
     },
     "execution_count": 6,
     "metadata": {},
     "output_type": "execute_result"
    }
   ],
   "source": [
    "#Replace all odd numbers in arr with -1\n",
    "\n",
    "############################################################################################################################\n",
    "# siguiendo con la condicion anterior, los pares se reemplazan por -1\n",
    "############################################################################################################################\n",
    "\n",
    "arr1= np.arange(10)\n",
    "arr1[condition == True] = -1   ###### no es necesario usar la condición, poniendo arr1[arr % 2==1] = -1 , es suficiente\n",
    "arr1"
   ]
  },
  {
   "cell_type": "code",
   "execution_count": 7,
   "metadata": {},
   "outputs": [
    {
     "name": "stdout",
     "output_type": "stream",
     "text": [
      "[0 1 2 3 4 5 6 7 8 9]\n"
     ]
    },
    {
     "data": {
      "text/plain": [
       "array([ 0, -1,  2, -1,  4, -1,  6, -1,  8, -1])"
      ]
     },
     "execution_count": 7,
     "metadata": {},
     "output_type": "execute_result"
    }
   ],
   "source": [
    "#Replace all odd numbers in arr with -1 without changing arr\n",
    "\n",
    "############################################################################################################################\n",
    "# metodo where para modificar valores que no cumplan la condicion, mismo que el anterior pero al reves\n",
    "############################################################################################################################\n",
    "\n",
    "arr2= np.arange(10)\n",
    "out = np.where (arr % 2 == 1, -1, arr)  #The numpy.where() function returns the indices of elements in an input array where the given condition is satisfied.\n",
    "print (arr)\n",
    "out"
   ]
  },
  {
   "cell_type": "code",
   "execution_count": 8,
   "metadata": {},
   "outputs": [
    {
     "data": {
      "text/plain": [
       "array([[0, 1, 2, 3, 4],\n",
       "       [5, 6, 7, 8, 9]])"
      ]
     },
     "execution_count": 8,
     "metadata": {},
     "output_type": "execute_result"
    }
   ],
   "source": [
    "#Convert a 1D array to a 2D array with 2 rows\n",
    "\n",
    "############################################################################################################################\n",
    "# metodo reshape para convertir un array plano en uno 2d, funciona para modificar cualquier array con cualquier dimension, solo se debe temner en cuenta de que se\n",
    "# mantengan la cantidad de valores\n",
    "############################################################################################################################ \n",
    "arr3= np.arange(10).reshape(2,5)\n",
    "\n",
    "arr3\n",
    "\n"
   ]
  },
  {
   "cell_type": "code",
   "execution_count": 19,
   "metadata": {},
   "outputs": [
    {
     "data": {
      "text/plain": [
       "array([[0, 1, 2, 3, 4],\n",
       "       [5, 6, 7, 8, 9],\n",
       "       [1, 1, 1, 1, 1],\n",
       "       [1, 1, 1, 1, 1]])"
      ]
     },
     "execution_count": 19,
     "metadata": {},
     "output_type": "execute_result"
    }
   ],
   "source": [
    "\n",
    "#Stack arrays a and b vertically\n",
    "############################################################################################################################\n",
    "# metodo .concatenate ----- para concatenar matrices, con axis=0 verticalmente y con axis=1 horizontalmente\n",
    "############################################################################################################################\n",
    "############################################################################################################################\n",
    "# vease metodo repeat para repetir el numero indicado a lo largo de toda la matriz\n",
    "############################################################################################################################\n",
    "\n",
    "\n",
    "a = np.arange(10).reshape(2,-1)\n",
    "b = np.repeat(1, 10).reshape(2,-1)    ###### PONER -1 hacer dedicir automaticamente la matriz posible\n",
    "\n",
    "np.concatenate([a,b], axis=0)  #Method 1\n",
    "\n",
    "#np.vstack([a,b]) #Method 2\n",
    "\n",
    "#np.r_[a,b]  #Method 3"
   ]
  },
  {
   "cell_type": "code",
   "execution_count": 20,
   "metadata": {},
   "outputs": [
    {
     "data": {
      "text/plain": [
       "array([[0, 1, 2, 3, 4, 1, 1, 1, 1, 1],\n",
       "       [5, 6, 7, 8, 9, 1, 1, 1, 1, 1]])"
      ]
     },
     "execution_count": 20,
     "metadata": {},
     "output_type": "execute_result"
    }
   ],
   "source": [
    "#Stack the arrays a and b horizontally.\n",
    "############################################################################################################################\n",
    "# identico al anterior pero contatenado horizontalmente\n",
    "############################################################################################################################\n",
    "\n",
    "np.concatenate([a,b], axis=1)\n",
    "\n",
    "#np.hstack((a,b)) #Method 2"
   ]
  },
  {
   "cell_type": "code",
   "execution_count": 21,
   "metadata": {},
   "outputs": [
    {
     "data": {
      "text/plain": [
       "array([1, 1, 2, 2, 3, 3, 1, 2, 3, 1, 2, 3, 1, 2, 3])"
      ]
     },
     "execution_count": 21,
     "metadata": {},
     "output_type": "execute_result"
    }
   ],
   "source": [
    "#Create the following pattern without hardcoding. Use only numpy functions and the below input array a.\n",
    "############################################################################################################################\n",
    "# metodo tile que repite la matriz cuantas veses se quiera\n",
    "############################################################################################################################\n",
    "\n",
    "\n",
    "a = np.array([1,2,3])\n",
    "np.r_[np.repeat(a, 2), np.tile(a, 3)]"
   ]
  },
  {
   "cell_type": "code",
   "execution_count": 12,
   "metadata": {},
   "outputs": [
    {
     "data": {
      "text/plain": [
       "array([2, 4])"
      ]
     },
     "execution_count": 12,
     "metadata": {},
     "output_type": "execute_result"
    }
   ],
   "source": [
    "# Get the common items between a and b\n",
    "\n",
    "############################################################################################################################\n",
    "# metodo .intersect1d ------- compara dos array y te dice que numeros estan en ambas\n",
    "############################################################################################################################\n",
    "\n",
    "a = np.array([1,2,3,2,3,4,3,4,5,6])\n",
    "b = np.array([7,2,10,2,7,4,9,4,9,8])\n",
    "\n",
    "np.intersect1d(a,b)"
   ]
  },
  {
   "cell_type": "code",
   "execution_count": 13,
   "metadata": {},
   "outputs": [
    {
     "data": {
      "text/plain": [
       "array([  4,   5, 111])"
      ]
     },
     "execution_count": 13,
     "metadata": {},
     "output_type": "execute_result"
    }
   ],
   "source": [
    "#From array a remove all items present in array b\n",
    "\n",
    "############################################################################################################################\n",
    "# metodo .setdiff1d ------- te idica que numeros del array a no estan en el array b\n",
    "############################################################################################################################\n",
    "\n",
    "a = np.array([1,2,3,111,4,5])\n",
    "b = np.array([11,1,2,3,45,6,7,8,9])    #Find the set difference of two arrays. Return the unique values in ar1 that are not in ar2\n",
    "\n",
    "np.setdiff1d(a,b)"
   ]
  },
  {
   "cell_type": "code",
   "execution_count": 14,
   "metadata": {},
   "outputs": [
    {
     "data": {
      "text/plain": [
       "(array([1, 3, 5, 7]),)"
      ]
     },
     "execution_count": 14,
     "metadata": {},
     "output_type": "execute_result"
    }
   ],
   "source": [
    "#Get the positions where elements of a and b match\n",
    "\n",
    "############################################################################################################################\n",
    "# metodo .where ------ te dice las diferencias etre las dos matrices\n",
    "############################################################################################################################\n",
    "\n",
    "a = np.array([1,2,3,2,3,4,3,4,5,6])\n",
    "b = np.array([7,2,10,2,7,4,9,4,9,8])\n",
    "\n",
    "np.where (a==b)"
   ]
  },
  {
   "cell_type": "code",
   "execution_count": 15,
   "metadata": {},
   "outputs": [
    {
     "data": {
      "text/plain": [
       "array([ 6,  9, 10])"
      ]
     },
     "execution_count": 15,
     "metadata": {},
     "output_type": "execute_result"
    }
   ],
   "source": [
    "#  Get all items between 5 and 10 from a\n",
    "\n",
    "############################################################################################################################\n",
    "# condiciona los array\n",
    "############################################################################################################################\n",
    "\n",
    "\n",
    "a = np.array([2, 6, 1, 9, 10, 3, 27])\n",
    "\n",
    "# Method 1\n",
    "index = np.where((a >= 5) & (a <= 10))\n",
    "a[index]\n",
    "\n",
    "# Method 2:\n",
    "index = np.where(np.logical_and(a>=5, a<=10))\n",
    "a[index]\n",
    "#> (array([6, 9, 10]),)\n",
    "\n",
    "# Method 3:\n",
    "a[(a >= 5) & (a <= 10)]"
   ]
  },
  {
   "cell_type": "code",
   "execution_count": 16,
   "metadata": {},
   "outputs": [
    {
     "data": {
      "text/plain": [
       "array([6., 7., 9., 8., 9., 7., 5.])"
      ]
     },
     "execution_count": 16,
     "metadata": {},
     "output_type": "execute_result"
    }
   ],
   "source": [
    "#Convert the function maxx that works on two scalars, to work on two arrays.\n",
    "\n",
    "############################################################################################################################\n",
    "# pair_max -------- crea otro array con las variables que se repiten en ambos array\n",
    "############################################################################################################################\n",
    "\n",
    "\n",
    "def maxx(x, y):\n",
    "    \"\"\"Get the maximum of two items\"\"\"\n",
    "    if x >= y:\n",
    "        return x\n",
    "    else:\n",
    "        return y\n",
    "\n",
    "maxx(1, 5)\n",
    "\n",
    "pair_max = np.vectorize(maxx, otypes=[float])\n",
    "\n",
    "a = np.array([5, 7, 9, 8, 6, 4, 5])\n",
    "b = np.array([6, 3, 4, 8, 9, 7, 1])\n",
    "\n",
    "pair_max(a, b)"
   ]
  }
 ],
 "metadata": {
  "kernelspec": {
   "display_name": "Python 3.10.7 64-bit",
   "language": "python",
   "name": "python3"
  },
  "language_info": {
   "codemirror_mode": {
    "name": "ipython",
    "version": 3
   },
   "file_extension": ".py",
   "mimetype": "text/x-python",
   "name": "python",
   "nbconvert_exporter": "python",
   "pygments_lexer": "ipython3",
   "version": "3.10.7"
  },
  "orig_nbformat": 4,
  "vscode": {
   "interpreter": {
    "hash": "e7370f93d1d0cde622a1f8e1c04877d8463912d04d973331ad4851f04de6915a"
   }
  }
 },
 "nbformat": 4,
 "nbformat_minor": 2
}
