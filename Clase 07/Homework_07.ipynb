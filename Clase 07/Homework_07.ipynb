{
 "cells": [
  {
   "cell_type": "markdown",
   "metadata": {},
   "source": [
    "# Práctica Clase 7"
   ]
  },
  {
   "cell_type": "markdown",
   "metadata": {},
   "source": [
    "1) Diseñar una clase que permita trabajar con un árbol binario y que contenga los métodos:<br>\n",
    "    * insertaVal: para insertar un dato<br>\n",
    "    * buscaVal: que devuelva True o False si existe o no un dato<br>\n",
    "    * verVal: que imprima por pantalla los valores del árbol<br>\n",
    "\n",
    "Nota: Se puede utilizar la recursividad\n"
   ]
  },
  {
   "cell_type": "code",
   "execution_count": 17,
   "metadata": {},
   "outputs": [],
   "source": [
    "class Arbol:\n",
    "    # Funciones privadas\n",
    "    def __init__(self, dato):\n",
    "        self.raiz = Nodo(dato)\n",
    "\n",
    "    def __agregar_recursivo(self, nodo, dato):\n",
    "        if dato < nodo.dato:\n",
    "            if nodo.izquierda is None:\n",
    "                nodo.izquierda = Nodo(dato)\n",
    "            else:\n",
    "                self.__agregar_recursivo(nodo.izquierda, dato)\n",
    "        else:\n",
    "            if nodo.derecha is None:\n",
    "                nodo.derecha = Nodo(dato)\n",
    "            else:\n",
    "                self.__agregar_recursivo(nodo.derecha, dato)\n",
    "\n",
    "    def __inorden_recursivo(self, nodo):\n",
    "        if nodo is not None:\n",
    "            self.__inorden_recursivo(nodo.izquierda)\n",
    "            print(nodo.dato, end=\", \")\n",
    "            self.__inorden_recursivo(nodo.derecha)\n",
    "\n",
    "    def __preorden_recursivo(self, nodo):\n",
    "        if nodo is not None:\n",
    "            print(nodo.dato, end=\", \")\n",
    "            self.__preorden_recursivo(nodo.izquierda)\n",
    "            self.__preorden_recursivo(nodo.derecha)\n",
    "\n",
    "    def __postorden_recursivo(self, nodo):\n",
    "        if nodo is not None:\n",
    "            self.__postorden_recursivo(nodo.izquierda)\n",
    "            self.__postorden_recursivo(nodo.derecha)\n",
    "            print(nodo.dato, end=\", \")\n",
    "\n",
    "    def __buscar(self, nodo, busqueda):\n",
    "        if nodo is None:\n",
    "            return None\n",
    "        if nodo.dato == busqueda:\n",
    "            return nodo\n",
    "        if busqueda < nodo.dato:\n",
    "            return self.__buscar(nodo.izquierda, busqueda)\n",
    "        else:\n",
    "            return self.__buscar(nodo.derecha, busqueda)\n",
    "\n",
    "    # Funciones públicas\n",
    "\n",
    "    def agregar(self, dato):\n",
    "        self.__agregar_recursivo(self.raiz, dato)\n",
    "\n",
    "    def inorden(self):\n",
    "        print(\"Imprimiendo árbol inorden: \")\n",
    "        self.__inorden_recursivo(self.raiz)\n",
    "        print(\"\")\n",
    "\n",
    "    def preorden(self):\n",
    "        print(\"Imprimiendo árbol preorden: \")\n",
    "        self.__preorden_recursivo(self.raiz)\n",
    "        print(\"\")\n",
    "\n",
    "    def postorden(self):\n",
    "        print(\"Imprimiendo árbol postorden: \")\n",
    "        self.__postorden_recursivo(self.raiz)\n",
    "        print(\"\")\n",
    "\n",
    "    def buscar(self, busqueda):\n",
    "        return self.__buscar(self.raiz, busqueda)"
   ]
  },
  {
   "cell_type": "code",
   "execution_count": 19,
   "metadata": {},
   "outputs": [
    {
     "ename": "AttributeError",
     "evalue": "'Nodo' object has no attribute 'derecha'",
     "output_type": "error",
     "traceback": [
      "\u001b[0;31m---------------------------------------------------------------------------\u001b[0m",
      "\u001b[0;31mAttributeError\u001b[0m                            Traceback (most recent call last)",
      "Cell \u001b[0;32mIn [19], line 2\u001b[0m\n\u001b[1;32m      1\u001b[0m arbol_numeros \u001b[39m=\u001b[39m Arbol(\u001b[39m5\u001b[39m)\n\u001b[0;32m----> 2\u001b[0m arbol_numeros\u001b[39m.\u001b[39;49magregar(\u001b[39m1984\u001b[39;49m)\n\u001b[1;32m      3\u001b[0m arbol_numeros\u001b[39m.\u001b[39magregar(\u001b[39m60\u001b[39m)\n\u001b[1;32m      4\u001b[0m arbol_numeros\u001b[39m.\u001b[39magregar(\u001b[39m10\u001b[39m)\n",
      "Cell \u001b[0;32mIn [17], line 49\u001b[0m, in \u001b[0;36mArbol.agregar\u001b[0;34m(self, dato)\u001b[0m\n\u001b[1;32m     48\u001b[0m \u001b[39mdef\u001b[39;00m \u001b[39magregar\u001b[39m(\u001b[39mself\u001b[39m, dato):\n\u001b[0;32m---> 49\u001b[0m     \u001b[39mself\u001b[39;49m\u001b[39m.\u001b[39;49m__agregar_recursivo(\u001b[39mself\u001b[39;49m\u001b[39m.\u001b[39;49mraiz, dato)\n",
      "Cell \u001b[0;32mIn [17], line 13\u001b[0m, in \u001b[0;36mArbol.__agregar_recursivo\u001b[0;34m(self, nodo, dato)\u001b[0m\n\u001b[1;32m     11\u001b[0m         \u001b[39mself\u001b[39m\u001b[39m.\u001b[39m__agregar_recursivo(nodo\u001b[39m.\u001b[39mizquierda, dato)\n\u001b[1;32m     12\u001b[0m \u001b[39melse\u001b[39;00m:\n\u001b[0;32m---> 13\u001b[0m     \u001b[39mif\u001b[39;00m nodo\u001b[39m.\u001b[39;49mderecha \u001b[39mis\u001b[39;00m \u001b[39mNone\u001b[39;00m:\n\u001b[1;32m     14\u001b[0m         nodo\u001b[39m.\u001b[39mderecha \u001b[39m=\u001b[39m Nodo(dato)\n\u001b[1;32m     15\u001b[0m     \u001b[39melse\u001b[39;00m:\n",
      "\u001b[0;31mAttributeError\u001b[0m: 'Nodo' object has no attribute 'derecha'"
     ]
    }
   ],
   "source": [
    "arbol_numeros = Arbol(5)\n",
    "arbol_numeros.agregar(1984)\n",
    "arbol_numeros.agregar(60)\n",
    "arbol_numeros.agregar(10)\n",
    "arbol_numeros.agregar(20)\n",
    "arbol_numeros.agregar(10)\n",
    "arbol_numeros.agregar(25)\n",
    "arbol_numeros.agregar(59)\n",
    "arbol_numeros.agregar(64)\n",
    "arbol_numeros.agregar(10)\n",
    "arbol_numeros.agregar(19)\n",
    "arbol_numeros.agregar(23)\n",
    "arbol_numeros.agregar(18)\n",
    "arbol_numeros.agregar(1)\n",
    "arbol_numeros.agregar(2013)\n",
    "arbol_numeros.preorden()\n",
    "arbol_numeros.inorden()\n",
    "arbol_numeros.postorden()\n",
    "\n",
    "busqueda = int(input(\"Ingresa un número para buscar en el árbol: \"))\n",
    "n = arbol_numeros.buscar(busqueda)\n",
    "if n is None:\n",
    "    print(f\"{busqueda} no existe\")\n",
    "else:\n",
    "    print(f\"{busqueda} sí existe\")"
   ]
  }
 ],
 "metadata": {
  "kernelspec": {
   "display_name": "Python 3.10.7 64-bit",
   "language": "python",
   "name": "python3"
  },
  "language_info": {
   "codemirror_mode": {
    "name": "ipython",
    "version": 3
   },
   "file_extension": ".py",
   "mimetype": "text/x-python",
   "name": "python",
   "nbconvert_exporter": "python",
   "pygments_lexer": "ipython3",
   "version": "3.10.7"
  },
  "vscode": {
   "interpreter": {
    "hash": "e7370f93d1d0cde622a1f8e1c04877d8463912d04d973331ad4851f04de6915a"
   }
  }
 },
 "nbformat": 4,
 "nbformat_minor": 4
}
