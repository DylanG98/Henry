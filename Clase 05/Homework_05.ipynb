{
 "cells": [
  {
   "cell_type": "markdown",
   "metadata": {},
   "source": [
    "# Práctica Clase 5"
   ]
  },
  {
   "cell_type": "markdown",
   "metadata": {},
   "source": [
    "1) Implementar un juego, que consista en apilar números enteros del 1 al 20, de forma aleatoria, para lo cual debe usarse una estructura de Pila. \n",
    "Luego, el usuario debe elegir un número de veces en que se va a quitar elementos de la pila, los cuales, sumados entre sí, no deben superar el valor de 50.\n",
    "El usuario pierde si la suma supera ese valor. Si no lo supera, gana, pero su calificación será 10 menos el número elementos que falten quitar para todavía no superar 50.\n",
    "El programa debe informar si perdió, y si ganó, con qué calificación lo hizo.\n",
    "\n",
    "Consideraciones:<br>\n",
    "a. Se puede usar la función input() para obtener una entrada de teclado.<br>\n",
    "b. Se puede usar la el modulo random para obtener valores aleatorios."
   ]
  },
  {
   "cell_type": "code",
   "execution_count": 2,
   "metadata": {},
   "outputs": [
    {
     "name": "stdout",
     "output_type": "stream",
     "text": [
      "Juego de apuestas:\n",
      "\n",
      "\n"
     ]
    },
    {
     "ename": "NameError",
     "evalue": "name 'push' is not defined",
     "output_type": "error",
     "traceback": [
      "\u001b[0;31m---------------------------------------------------------------------------\u001b[0m",
      "\u001b[0;31mNameError\u001b[0m                                 Traceback (most recent call last)",
      "Cell \u001b[0;32mIn [2], line 78\u001b[0m\n\u001b[1;32m     76\u001b[0m \u001b[39mif\u001b[39;00m \u001b[39m__name__\u001b[39m \u001b[39m==\u001b[39m \u001b[39m'\u001b[39m\u001b[39m__main__\u001b[39m\u001b[39m'\u001b[39m:\n\u001b[1;32m     77\u001b[0m     s \u001b[39m=\u001b[39m juego()\n\u001b[0;32m---> 78\u001b[0m     s\u001b[39m.\u001b[39;49mjogo_bonito()\n",
      "Cell \u001b[0;32mIn [2], line 47\u001b[0m, in \u001b[0;36mjuego.jogo_bonito\u001b[0;34m(self)\u001b[0m\n\u001b[1;32m     45\u001b[0m entrada \u001b[39m=\u001b[39m \u001b[39minput\u001b[39m(\u001b[39m'\u001b[39m\u001b[39mQue desea hacer:\u001b[39m\u001b[39m\\n\u001b[39;00m\u001b[39m\\t\u001b[39;00m\u001b[39mObtener numero (s)\u001b[39m\u001b[39m\\n\u001b[39;00m\u001b[39m\\t\u001b[39;00m\u001b[39mTerminar apuesta (n)\u001b[39m\u001b[39m'\u001b[39m)\n\u001b[1;32m     46\u001b[0m \u001b[39mif\u001b[39;00m entrada\u001b[39m.\u001b[39mlower() \u001b[39m==\u001b[39m \u001b[39m'\u001b[39m\u001b[39ms\u001b[39m\u001b[39m'\u001b[39m:\n\u001b[0;32m---> 47\u001b[0m     push()\n\u001b[1;32m     49\u001b[0m \u001b[39melse\u001b[39;00m:\n\u001b[1;32m     50\u001b[0m     \u001b[39mreturn\u001b[39;00m ejecutora()\n",
      "\u001b[0;31mNameError\u001b[0m: name 'push' is not defined"
     ]
    }
   ],
   "source": [
    "#####################################################################################################\n",
    "# IDEA PRINCIPAL: DEFINO UNA CLASE JUEGO A LA CUAL LE ATRIBUYO 2 PARAMETROS, 1 VA A CONDICIONAR AL OTRO\n",
    "# PARA VER EL PUNTAJE QUE SACASTE EN ESE JUEGO\n",
    "import random\n",
    "\n",
    "\n",
    "class juego():\n",
    "    def _init_(self):\n",
    "    #####################################################################################################\n",
    "    # FUNCION INIT PARA ALMACENAR LOS NUMEROS DE LAS VARIABLES RANDOM EN UNA LISTA\n",
    "    #####################################################################################################    \n",
    "\n",
    "        self.__list = []\n",
    "\n",
    "    def num_random(self):\n",
    "    #####################################################################################################\n",
    "    # FUNCION PARA GENERAR UN NUMERO RANDOM\n",
    "    #####################################################################################################\n",
    "\n",
    "        return random.randint(1,20)\n",
    "\n",
    "    def push(self):\n",
    "    #####################################################################################################\n",
    "    # FUNCION PARA CALLEAR EL NUMERO RANDOM Y AGREGARLO A LA LISTA\n",
    "    #####################################################################################################\n",
    "\n",
    "        item = num_random()\n",
    "        self.__list.append(item)\n",
    "        return 'Ha ingresado un nùmero random a la lista'\n",
    "\n",
    "    def funcion_calculadora(self):\n",
    "    #####################################################################################################\n",
    "    # FUNCION QUE SE ENCARGA DE SUMAR LOS NUMEROS DE LA LISTA\n",
    "    #####################################################################################################\n",
    "\n",
    "        resultado = self.__list.sum()\n",
    "        return resultado\n",
    "\n",
    "    def jogo_bonito(self):\n",
    "    #####################################################################################################\n",
    "    # FUNCION QUE SE ENCARGA DE VINCULAR TODAS LAS FUNCIONES\n",
    "    #####################################################################################################\n",
    "\n",
    "        print('Juego de apuestas:\\n\\n')\n",
    "        entrada = input('Que desea hacer:\\n\\tObtener numero (s)\\n\\tTerminar apuesta (n)')\n",
    "        if entrada.lower() == 's':\n",
    "            push()\n",
    "        \n",
    "        else:\n",
    "            return ejecutora()\n",
    "    \n",
    "        while funcion_calculadora()<50:\n",
    "\n",
    "            entrada = input('Que desea hacer:\\n\\tObtener numero (s)\\n\\tTerminar apuesta (n)')\n",
    "            if entrada.lower() == 's':\n",
    "                push()\n",
    "\n",
    "            else:\n",
    "                break\n",
    "\n",
    "        return ejecutora()\n",
    "    \n",
    "    def ejecutora(self):\n",
    "        #####################################################################################################\n",
    "        # FUCION QUE SE ENCARGA DE DEFINIR LA CANTIDAD DE PUNTOS QUE SACO EN EL JUEGO\n",
    "        #####################################################################################################\n",
    "        if funcion_calculadora()>50:\n",
    "            return print('Usted sacò 0 puntos su numero supero los 50 puntos')\n",
    "\n",
    "        if funcion_calculadora()==50:\n",
    "            return print('Felicidades usted saco 10 puntos')\n",
    "        else:\n",
    "            result = 50-funcion_calculador()\n",
    "            return print('Usted obtuvo {} puntos').format(result)\n",
    "\n",
    "if __name__ == '__main__':\n",
    "    s = juego()\n",
    "    s.jogo_bonito()\n",
    "\n",
    "\n",
    "     \n",
    "\n",
    "\n",
    "\n",
    "\n"
   ]
  },
  {
   "cell_type": "markdown",
   "metadata": {},
   "source": [
    "2) Implementar un juego donde constas de 2 jarras, de capacidad 5 y 3 litros respectivamente, y debes colocar 4 litros en la jarra de 5L.\n",
    "Las opciones posibles son:\n",
    "* Llenar la jarra de 3 litros\n",
    "* Llenar la jarra de 5 litros\n",
    "* Vaciar la jarra de 3 litros\n",
    "* Vaciar la jarra de 5 litros\n",
    "* Verter el contenido de la jarra de 3 litros en la de 5 litros\n",
    "* Verter el contenido de la jarra de 5 litros en la de 3 litros"
   ]
  }
 ],
 "metadata": {
  "kernelspec": {
   "display_name": "Python 3.10.7 64-bit",
   "language": "python",
   "name": "python3"
  },
  "language_info": {
   "codemirror_mode": {
    "name": "ipython",
    "version": 3
   },
   "file_extension": ".py",
   "mimetype": "text/x-python",
   "name": "python",
   "nbconvert_exporter": "python",
   "pygments_lexer": "ipython3",
   "version": "3.10.7"
  },
  "vscode": {
   "interpreter": {
    "hash": "e7370f93d1d0cde622a1f8e1c04877d8463912d04d973331ad4851f04de6915a"
   }
  }
 },
 "nbformat": 4,
 "nbformat_minor": 4
}
